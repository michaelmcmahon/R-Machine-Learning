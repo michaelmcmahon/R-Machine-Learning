{
 "cells": [
  {
   "cell_type": "markdown",
   "metadata": {},
   "source": [
    "Install R using Anaconda\n",
    "https://docs.anaconda.com/anaconda/navigator/tutorials/create-r-environment/\n",
    "\n",
    "## Ask the right Question\n",
    "\n",
    "\"Predict if a flight is on-time\"\n",
    "Need a statement to direct and validate the work \n",
    "Define end goal, starting point, and how to achieve the end goal\n",
    "\n",
    "Solution Statement\n",
    "\t- Define scope (including data sources)\n",
    "\t- Define target performance\n",
    "\t- Define context for usage\n",
    "\t- Define how solution will be created\n",
    "\t\n",
    "Scope and Data Sources\n",
    "\t- US flights only\n",
    "\t- Flights between US airports only\n",
    "\t- US Dept of Transport (DOT) database is a good source\n",
    "\t- Using US DOT data, predict if a flight would be on-time\n",
    "\n",
    "Data\n",
    "\t- Preliminary data review\n",
    "\t- Delays tracked, not on-time\n",
    "\t- Using US DOT data, predict if a flight would be delayed\n",
    "\n",
    "Performance Targets\n",
    "\t- Binary result (true or False)\n",
    "\t- Coin Flip = 50% Accuracy\n",
    "\t- 70% Accuracy is a common target\n",
    "\t- Using US DOT data, predict with 70+% accuracy if a flight would be delayed\n",
    "\n",
    "Context \n",
    "\t- DOT \"delayed\" => greater than 15 mins after schedule\n",
    "\t- Using US DOT data, predict with 70+% accuracy if a flight would arrive 15+ minutes after the scheduled arrival time\n",
    "\n",
    "ML Workflow\n",
    "\t- Process DOT data\n",
    "\t- Transform data as required\n",
    "\t- Use the Machine Learning Workflow to process and transform US DOT data the create a prediction model. This model must predict whether a flight would arrive 15+ minutes after the scheduled arrival time with 70+% accuracy.\n",
    "\n",
    "Final Solution Statement\n",
    "\"Use the Machine Learning Workflow to process and transform US DOT data the create a prediction model. This model must predict whether a flight would arrive 15+ minutes after the scheduled arrival time with 70+% accuracy.\"\n"
   ]
  },
  {
   "cell_type": "markdown",
   "metadata": {},
   "source": [
    "# Preparing the Data\n",
    "\n",
    "Tidy datasets are easy to manipulate, model and visualize, and have a specific structure:\n",
    "\t- Each variable is a column\n",
    "\t- Each observation is a row\n",
    "\t- Each type of observational unit is a table\n",
    "\n",
    "Source: http://bit.ly/DOT_OnTime\n",
    "\t- Select Jan 2015 \n",
    "\t- Select DayOfWeek & DayOfMonth\n",
    "\t- Select Reporting_Airline, DOT_ID_Reporting_Airline, IATA_Code_Reporting_Airline, TailNum, FlightNum\n",
    "\t- Select OriginAirportID, OriginAirportSeqID, Origin\n",
    "\t- Select DestAirportID, DestAirportSeqID, Dest\n",
    "\t- Select DepTime, DepDel15, DepTimeBlk\n",
    "\t- Select ArrTime, ArrDel15\n",
    "\t- Select Cancelled, Diverted\n",
    "\t- Select Distance"
   ]
  },
  {
   "cell_type": "markdown",
   "metadata": {},
   "source": [
    "## Load Data"
   ]
  },
  {
   "cell_type": "code",
   "execution_count": 1,
   "metadata": {},
   "outputs": [],
   "source": [
    "# load the data CSV into an R dataframe as origData\n",
    "origData <- read.csv2('C:\\\\Jupyter Notebooks\\\\datasets\\\\DOT\\\\jan_2015_ontime.csv', sep=\",\", header=TRUE, stringsAsFactors = FALSE)"
   ]
  },
  {
   "cell_type": "code",
   "execution_count": 2,
   "metadata": {},
   "outputs": [
    {
     "data": {
      "text/html": [
       "469968"
      ],
      "text/latex": [
       "469968"
      ],
      "text/markdown": [
       "469968"
      ],
      "text/plain": [
       "[1] 469968"
      ]
     },
     "metadata": {},
     "output_type": "display_data"
    }
   ],
   "source": [
    "# Now that we have the datframe loaded lets check how many rows we have\n",
    "nrow(origData)"
   ]
  },
  {
   "cell_type": "code",
   "execution_count": 3,
   "metadata": {},
   "outputs": [],
   "source": [
    "# Too much data for quick testing so lets reduce only to certain main airports \n",
    "# We do this by creating an R vector (list)\n",
    "airports <-c('ATL', 'LAX', 'ORD', 'DFW', 'JFK', 'SFO', 'CTL', 'LAS', 'PHX')"
   ]
  },
  {
   "cell_type": "code",
   "execution_count": 4,
   "metadata": {},
   "outputs": [
    {
     "data": {
      "text/html": [
       "27921"
      ],
      "text/latex": [
       "27921"
      ],
      "text/markdown": [
       "27921"
      ],
      "text/plain": [
       "[1] 27921"
      ]
     },
     "metadata": {},
     "output_type": "display_data"
    }
   ],
   "source": [
    "# We do a subset function to only get the data from flights between these airports using a select operation\n",
    "origData <- subset(origData, DEST %in% airports & ORIGIN %in% airports)\n",
    "\n",
    "#now check the number if rows again\n",
    "nrow(origData)"
   ]
  },
  {
   "cell_type": "markdown",
   "metadata": {},
   "source": [
    "## Prepare & Clean data"
   ]
  },
  {
   "cell_type": "code",
   "execution_count": 5,
   "metadata": {},
   "outputs": [
    {
     "data": {
      "text/html": [
       "<table>\n",
       "<thead><tr><th scope=col>DAY_OF_MONTH</th><th scope=col>DAY_OF_WEEK</th><th scope=col>OP_UNIQUE_CARRIER</th><th scope=col>OP_CARRIER_AIRLINE_ID</th><th scope=col>OP_CARRIER</th><th scope=col>TAIL_NUM</th><th scope=col>OP_CARRIER_FL_NUM</th><th scope=col>ORIGIN_AIRPORT_ID</th><th scope=col>ORIGIN_AIRPORT_SEQ_ID</th><th scope=col>ORIGIN</th><th scope=col>...</th><th scope=col>DEST</th><th scope=col>DEP_TIME</th><th scope=col>DEP_DEL15</th><th scope=col>DEP_TIME_BLK</th><th scope=col>ARR_TIME</th><th scope=col>ARR_DEL15</th><th scope=col>CANCELLED</th><th scope=col>DIVERTED</th><th scope=col>DISTANCE</th><th scope=col>X</th></tr></thead>\n",
       "<tbody>\n",
       "\t<tr><td>1        </td><td>4        </td><td>AA       </td><td>19805    </td><td>AA       </td><td>N787AA   </td><td>1        </td><td>12478    </td><td>1247802  </td><td>JFK      </td><td>...      </td><td>LAX      </td><td>855      </td><td>0.00     </td><td>0900-0959</td><td>1237     </td><td>0.00     </td><td>0.00     </td><td>0.00     </td><td>2475.00  </td><td>NA       </td></tr>\n",
       "\t<tr><td>1        </td><td>4        </td><td>AA       </td><td>19805    </td><td>AA       </td><td>N795AA   </td><td>2        </td><td>12892    </td><td>1289203  </td><td>LAX      </td><td>...      </td><td>JFK      </td><td>856      </td><td>0.00     </td><td>0900-0959</td><td>1651     </td><td>0.00     </td><td>0.00     </td><td>0.00     </td><td>2475.00  </td><td>NA       </td></tr>\n",
       "</tbody>\n",
       "</table>\n"
      ],
      "text/latex": [
       "\\begin{tabular}{r|llllllllllllllllllllll}\n",
       " DAY\\_OF\\_MONTH & DAY\\_OF\\_WEEK & OP\\_UNIQUE\\_CARRIER & OP\\_CARRIER\\_AIRLINE\\_ID & OP\\_CARRIER & TAIL\\_NUM & OP\\_CARRIER\\_FL\\_NUM & ORIGIN\\_AIRPORT\\_ID & ORIGIN\\_AIRPORT\\_SEQ\\_ID & ORIGIN & ... & DEST & DEP\\_TIME & DEP\\_DEL15 & DEP\\_TIME\\_BLK & ARR\\_TIME & ARR\\_DEL15 & CANCELLED & DIVERTED & DISTANCE & X\\\\\n",
       "\\hline\n",
       "\t 1         & 4         & AA        & 19805     & AA        & N787AA    & 1         & 12478     & 1247802   & JFK       & ...       & LAX       & 855       & 0.00      & 0900-0959 & 1237      & 0.00      & 0.00      & 0.00      & 2475.00   & NA       \\\\\n",
       "\t 1         & 4         & AA        & 19805     & AA        & N795AA    & 2         & 12892     & 1289203   & LAX       & ...       & JFK       & 856       & 0.00      & 0900-0959 & 1651      & 0.00      & 0.00      & 0.00      & 2475.00   & NA       \\\\\n",
       "\\end{tabular}\n"
      ],
      "text/markdown": [
       "\n",
       "DAY_OF_MONTH | DAY_OF_WEEK | OP_UNIQUE_CARRIER | OP_CARRIER_AIRLINE_ID | OP_CARRIER | TAIL_NUM | OP_CARRIER_FL_NUM | ORIGIN_AIRPORT_ID | ORIGIN_AIRPORT_SEQ_ID | ORIGIN | ... | DEST | DEP_TIME | DEP_DEL15 | DEP_TIME_BLK | ARR_TIME | ARR_DEL15 | CANCELLED | DIVERTED | DISTANCE | X | \n",
       "|---|---|\n",
       "| 1         | 4         | AA        | 19805     | AA        | N787AA    | 1         | 12478     | 1247802   | JFK       | ...       | LAX       | 855       | 0.00      | 0900-0959 | 1237      | 0.00      | 0.00      | 0.00      | 2475.00   | NA        | \n",
       "| 1         | 4         | AA        | 19805     | AA        | N795AA    | 2         | 12892     | 1289203   | LAX       | ...       | JFK       | 856       | 0.00      | 0900-0959 | 1651      | 0.00      | 0.00      | 0.00      | 2475.00   | NA        | \n",
       "\n",
       "\n"
      ],
      "text/plain": [
       "  DAY_OF_MONTH DAY_OF_WEEK OP_UNIQUE_CARRIER OP_CARRIER_AIRLINE_ID OP_CARRIER\n",
       "1 1            4           AA                19805                 AA        \n",
       "2 1            4           AA                19805                 AA        \n",
       "  TAIL_NUM OP_CARRIER_FL_NUM ORIGIN_AIRPORT_ID ORIGIN_AIRPORT_SEQ_ID ORIGIN ...\n",
       "1 N787AA   1                 12478             1247802               JFK    ...\n",
       "2 N795AA   2                 12892             1289203               LAX    ...\n",
       "  DEST DEP_TIME DEP_DEL15 DEP_TIME_BLK ARR_TIME ARR_DEL15 CANCELLED DIVERTED\n",
       "1 LAX  855      0.00      0900-0959    1237     0.00      0.00      0.00    \n",
       "2 JFK  856      0.00      0900-0959    1651     0.00      0.00      0.00    \n",
       "  DISTANCE X \n",
       "1 2475.00  NA\n",
       "2 2475.00  NA"
      ]
     },
     "metadata": {},
     "output_type": "display_data"
    }
   ],
   "source": [
    "# Visually inspect the data using the head command to look at the first two rows\n",
    "head(origData, 2)"
   ]
  },
  {
   "cell_type": "code",
   "execution_count": 6,
   "metadata": {},
   "outputs": [
    {
     "data": {
      "text/html": [
       "<table>\n",
       "<thead><tr><th></th><th scope=col>DAY_OF_MONTH</th><th scope=col>DAY_OF_WEEK</th><th scope=col>OP_UNIQUE_CARRIER</th><th scope=col>OP_CARRIER_AIRLINE_ID</th><th scope=col>OP_CARRIER</th><th scope=col>TAIL_NUM</th><th scope=col>OP_CARRIER_FL_NUM</th><th scope=col>ORIGIN_AIRPORT_ID</th><th scope=col>ORIGIN_AIRPORT_SEQ_ID</th><th scope=col>ORIGIN</th><th scope=col>...</th><th scope=col>DEST</th><th scope=col>DEP_TIME</th><th scope=col>DEP_DEL15</th><th scope=col>DEP_TIME_BLK</th><th scope=col>ARR_TIME</th><th scope=col>ARR_DEL15</th><th scope=col>CANCELLED</th><th scope=col>DIVERTED</th><th scope=col>DISTANCE</th><th scope=col>X</th></tr></thead>\n",
       "<tbody>\n",
       "\t<tr><th scope=row>469666</th><td>31       </td><td>6        </td><td>WN       </td><td>19393    </td><td>WN       </td><td>N659SW   </td><td>3841     </td><td>14771    </td><td>1477101  </td><td>SFO      </td><td>...      </td><td>PHX      </td><td>1109     </td><td>0.00     </td><td>1100-1159</td><td>1417     </td><td>0.00     </td><td>0.00     </td><td>0.00     </td><td>651.00   </td><td>NA       </td></tr>\n",
       "\t<tr><th scope=row>469667</th><td>31       </td><td>6        </td><td>WN       </td><td>19393    </td><td>WN       </td><td>N218WN   </td><td>4481     </td><td>14771    </td><td>1477101  </td><td>SFO      </td><td>...      </td><td>PHX      </td><td>1426     </td><td>0.00     </td><td>1400-1459</td><td>1721     </td><td>0.00     </td><td>0.00     </td><td>0.00     </td><td>651.00   </td><td>NA       </td></tr>\n",
       "</tbody>\n",
       "</table>\n"
      ],
      "text/latex": [
       "\\begin{tabular}{r|llllllllllllllllllllll}\n",
       "  & DAY\\_OF\\_MONTH & DAY\\_OF\\_WEEK & OP\\_UNIQUE\\_CARRIER & OP\\_CARRIER\\_AIRLINE\\_ID & OP\\_CARRIER & TAIL\\_NUM & OP\\_CARRIER\\_FL\\_NUM & ORIGIN\\_AIRPORT\\_ID & ORIGIN\\_AIRPORT\\_SEQ\\_ID & ORIGIN & ... & DEST & DEP\\_TIME & DEP\\_DEL15 & DEP\\_TIME\\_BLK & ARR\\_TIME & ARR\\_DEL15 & CANCELLED & DIVERTED & DISTANCE & X\\\\\n",
       "\\hline\n",
       "\t469666 & 31        & 6         & WN        & 19393     & WN        & N659SW    & 3841      & 14771     & 1477101   & SFO       & ...       & PHX       & 1109      & 0.00      & 1100-1159 & 1417      & 0.00      & 0.00      & 0.00      & 651.00    & NA       \\\\\n",
       "\t469667 & 31        & 6         & WN        & 19393     & WN        & N218WN    & 4481      & 14771     & 1477101   & SFO       & ...       & PHX       & 1426      & 0.00      & 1400-1459 & 1721      & 0.00      & 0.00      & 0.00      & 651.00    & NA       \\\\\n",
       "\\end{tabular}\n"
      ],
      "text/markdown": [
       "\n",
       "| <!--/--> | DAY_OF_MONTH | DAY_OF_WEEK | OP_UNIQUE_CARRIER | OP_CARRIER_AIRLINE_ID | OP_CARRIER | TAIL_NUM | OP_CARRIER_FL_NUM | ORIGIN_AIRPORT_ID | ORIGIN_AIRPORT_SEQ_ID | ORIGIN | ... | DEST | DEP_TIME | DEP_DEL15 | DEP_TIME_BLK | ARR_TIME | ARR_DEL15 | CANCELLED | DIVERTED | DISTANCE | X | \n",
       "|---|---|\n",
       "| 469666 | 31        | 6         | WN        | 19393     | WN        | N659SW    | 3841      | 14771     | 1477101   | SFO       | ...       | PHX       | 1109      | 0.00      | 1100-1159 | 1417      | 0.00      | 0.00      | 0.00      | 651.00    | NA        | \n",
       "| 469667 | 31        | 6         | WN        | 19393     | WN        | N218WN    | 4481      | 14771     | 1477101   | SFO       | ...       | PHX       | 1426      | 0.00      | 1400-1459 | 1721      | 0.00      | 0.00      | 0.00      | 651.00    | NA        | \n",
       "\n",
       "\n"
      ],
      "text/plain": [
       "       DAY_OF_MONTH DAY_OF_WEEK OP_UNIQUE_CARRIER OP_CARRIER_AIRLINE_ID\n",
       "469666 31           6           WN                19393                \n",
       "469667 31           6           WN                19393                \n",
       "       OP_CARRIER TAIL_NUM OP_CARRIER_FL_NUM ORIGIN_AIRPORT_ID\n",
       "469666 WN         N659SW   3841              14771            \n",
       "469667 WN         N218WN   4481              14771            \n",
       "       ORIGIN_AIRPORT_SEQ_ID ORIGIN ... DEST DEP_TIME DEP_DEL15 DEP_TIME_BLK\n",
       "469666 1477101               SFO    ... PHX  1109     0.00      1100-1159   \n",
       "469667 1477101               SFO    ... PHX  1426     0.00      1400-1459   \n",
       "       ARR_TIME ARR_DEL15 CANCELLED DIVERTED DISTANCE X \n",
       "469666 1417     0.00      0.00      0.00     651.00   NA\n",
       "469667 1721     0.00      0.00      0.00     651.00   NA"
      ]
     },
     "metadata": {},
     "output_type": "display_data"
    }
   ],
   "source": [
    "# It looks like the X column can be dropped as it only contains N/A but to confirm lets check the end of the data\n",
    "tail(origData, 2)"
   ]
  },
  {
   "cell_type": "code",
   "execution_count": 7,
   "metadata": {},
   "outputs": [
    {
     "data": {
      "text/html": [
       "<table>\n",
       "<thead><tr><th scope=col>DAY_OF_MONTH</th><th scope=col>DAY_OF_WEEK</th><th scope=col>OP_UNIQUE_CARRIER</th><th scope=col>OP_CARRIER_AIRLINE_ID</th><th scope=col>OP_CARRIER</th><th scope=col>TAIL_NUM</th><th scope=col>OP_CARRIER_FL_NUM</th><th scope=col>ORIGIN_AIRPORT_ID</th><th scope=col>ORIGIN_AIRPORT_SEQ_ID</th><th scope=col>ORIGIN</th><th scope=col>...</th><th scope=col>DEST_AIRPORT_SEQ_ID</th><th scope=col>DEST</th><th scope=col>DEP_TIME</th><th scope=col>DEP_DEL15</th><th scope=col>DEP_TIME_BLK</th><th scope=col>ARR_TIME</th><th scope=col>ARR_DEL15</th><th scope=col>CANCELLED</th><th scope=col>DIVERTED</th><th scope=col>DISTANCE</th></tr></thead>\n",
       "<tbody>\n",
       "\t<tr><td>1        </td><td>4        </td><td>AA       </td><td>19805    </td><td>AA       </td><td>N787AA   </td><td>1        </td><td>12478    </td><td>1247802  </td><td>JFK      </td><td>...      </td><td>1289203  </td><td>LAX      </td><td>855      </td><td>0.00     </td><td>0900-0959</td><td>1237     </td><td>0.00     </td><td>0.00     </td><td>0.00     </td><td>2475.00  </td></tr>\n",
       "\t<tr><td>1        </td><td>4        </td><td>AA       </td><td>19805    </td><td>AA       </td><td>N795AA   </td><td>2        </td><td>12892    </td><td>1289203  </td><td>LAX      </td><td>...      </td><td>1247802  </td><td>JFK      </td><td>856      </td><td>0.00     </td><td>0900-0959</td><td>1651     </td><td>0.00     </td><td>0.00     </td><td>0.00     </td><td>2475.00  </td></tr>\n",
       "</tbody>\n",
       "</table>\n"
      ],
      "text/latex": [
       "\\begin{tabular}{r|lllllllllllllllllllll}\n",
       " DAY\\_OF\\_MONTH & DAY\\_OF\\_WEEK & OP\\_UNIQUE\\_CARRIER & OP\\_CARRIER\\_AIRLINE\\_ID & OP\\_CARRIER & TAIL\\_NUM & OP\\_CARRIER\\_FL\\_NUM & ORIGIN\\_AIRPORT\\_ID & ORIGIN\\_AIRPORT\\_SEQ\\_ID & ORIGIN & ... & DEST\\_AIRPORT\\_SEQ\\_ID & DEST & DEP\\_TIME & DEP\\_DEL15 & DEP\\_TIME\\_BLK & ARR\\_TIME & ARR\\_DEL15 & CANCELLED & DIVERTED & DISTANCE\\\\\n",
       "\\hline\n",
       "\t 1         & 4         & AA        & 19805     & AA        & N787AA    & 1         & 12478     & 1247802   & JFK       & ...       & 1289203   & LAX       & 855       & 0.00      & 0900-0959 & 1237      & 0.00      & 0.00      & 0.00      & 2475.00  \\\\\n",
       "\t 1         & 4         & AA        & 19805     & AA        & N795AA    & 2         & 12892     & 1289203   & LAX       & ...       & 1247802   & JFK       & 856       & 0.00      & 0900-0959 & 1651      & 0.00      & 0.00      & 0.00      & 2475.00  \\\\\n",
       "\\end{tabular}\n"
      ],
      "text/markdown": [
       "\n",
       "DAY_OF_MONTH | DAY_OF_WEEK | OP_UNIQUE_CARRIER | OP_CARRIER_AIRLINE_ID | OP_CARRIER | TAIL_NUM | OP_CARRIER_FL_NUM | ORIGIN_AIRPORT_ID | ORIGIN_AIRPORT_SEQ_ID | ORIGIN | ... | DEST_AIRPORT_SEQ_ID | DEST | DEP_TIME | DEP_DEL15 | DEP_TIME_BLK | ARR_TIME | ARR_DEL15 | CANCELLED | DIVERTED | DISTANCE | \n",
       "|---|---|\n",
       "| 1         | 4         | AA        | 19805     | AA        | N787AA    | 1         | 12478     | 1247802   | JFK       | ...       | 1289203   | LAX       | 855       | 0.00      | 0900-0959 | 1237      | 0.00      | 0.00      | 0.00      | 2475.00   | \n",
       "| 1         | 4         | AA        | 19805     | AA        | N795AA    | 2         | 12892     | 1289203   | LAX       | ...       | 1247802   | JFK       | 856       | 0.00      | 0900-0959 | 1651      | 0.00      | 0.00      | 0.00      | 2475.00   | \n",
       "\n",
       "\n"
      ],
      "text/plain": [
       "  DAY_OF_MONTH DAY_OF_WEEK OP_UNIQUE_CARRIER OP_CARRIER_AIRLINE_ID OP_CARRIER\n",
       "1 1            4           AA                19805                 AA        \n",
       "2 1            4           AA                19805                 AA        \n",
       "  TAIL_NUM OP_CARRIER_FL_NUM ORIGIN_AIRPORT_ID ORIGIN_AIRPORT_SEQ_ID ORIGIN ...\n",
       "1 N787AA   1                 12478             1247802               JFK    ...\n",
       "2 N795AA   2                 12892             1289203               LAX    ...\n",
       "  DEST_AIRPORT_SEQ_ID DEST DEP_TIME DEP_DEL15 DEP_TIME_BLK ARR_TIME ARR_DEL15\n",
       "1 1289203             LAX  855      0.00      0900-0959    1237     0.00     \n",
       "2 1247802             JFK  856      0.00      0900-0959    1651     0.00     \n",
       "  CANCELLED DIVERTED DISTANCE\n",
       "1 0.00      0.00     2475.00 \n",
       "2 0.00      0.00     2475.00 "
      ]
     },
     "metadata": {},
     "output_type": "display_data"
    }
   ],
   "source": [
    "# Lets remove the X colunn by setting it value to NULL and check it gone\n",
    "origData$X <- NULL\n",
    "head(origData, 2)"
   ]
  },
  {
   "cell_type": "code",
   "execution_count": 8,
   "metadata": {},
   "outputs": [
    {
     "data": {
      "text/html": [
       "<table>\n",
       "<thead><tr><th></th><th scope=col>ORIGIN_AIRPORT_SEQ_ID</th><th scope=col>ORIGIN_AIRPORT_ID</th></tr></thead>\n",
       "<tbody>\n",
       "\t<tr><th scope=row>ORIGIN_AIRPORT_SEQ_ID</th><td>1</td><td>1</td></tr>\n",
       "\t<tr><th scope=row>ORIGIN_AIRPORT_ID</th><td>1</td><td>1</td></tr>\n",
       "</tbody>\n",
       "</table>\n"
      ],
      "text/latex": [
       "\\begin{tabular}{r|ll}\n",
       "  & ORIGIN\\_AIRPORT\\_SEQ\\_ID & ORIGIN\\_AIRPORT\\_ID\\\\\n",
       "\\hline\n",
       "\tORIGIN\\_AIRPORT\\_SEQ\\_ID & 1 & 1\\\\\n",
       "\tORIGIN\\_AIRPORT\\_ID & 1 & 1\\\\\n",
       "\\end{tabular}\n"
      ],
      "text/markdown": [
       "\n",
       "| <!--/--> | ORIGIN_AIRPORT_SEQ_ID | ORIGIN_AIRPORT_ID | \n",
       "|---|---|\n",
       "| ORIGIN_AIRPORT_SEQ_ID | 1 | 1 | \n",
       "| ORIGIN_AIRPORT_ID | 1 | 1 | \n",
       "\n",
       "\n"
      ],
      "text/plain": [
       "                      ORIGIN_AIRPORT_SEQ_ID ORIGIN_AIRPORT_ID\n",
       "ORIGIN_AIRPORT_SEQ_ID 1                     1                \n",
       "ORIGIN_AIRPORT_ID     1                     1                "
      ]
     },
     "metadata": {},
     "output_type": "display_data"
    },
    {
     "data": {
      "text/html": [
       "<table>\n",
       "<thead><tr><th></th><th scope=col>DEST_AIRPORT_SEQ_ID</th><th scope=col>DEST_AIRPORT_ID</th></tr></thead>\n",
       "<tbody>\n",
       "\t<tr><th scope=row>DEST_AIRPORT_SEQ_ID</th><td>1</td><td>1</td></tr>\n",
       "\t<tr><th scope=row>DEST_AIRPORT_ID</th><td>1</td><td>1</td></tr>\n",
       "</tbody>\n",
       "</table>\n"
      ],
      "text/latex": [
       "\\begin{tabular}{r|ll}\n",
       "  & DEST\\_AIRPORT\\_SEQ\\_ID & DEST\\_AIRPORT\\_ID\\\\\n",
       "\\hline\n",
       "\tDEST\\_AIRPORT\\_SEQ\\_ID & 1 & 1\\\\\n",
       "\tDEST\\_AIRPORT\\_ID & 1 & 1\\\\\n",
       "\\end{tabular}\n"
      ],
      "text/markdown": [
       "\n",
       "| <!--/--> | DEST_AIRPORT_SEQ_ID | DEST_AIRPORT_ID | \n",
       "|---|---|\n",
       "| DEST_AIRPORT_SEQ_ID | 1 | 1 | \n",
       "| DEST_AIRPORT_ID | 1 | 1 | \n",
       "\n",
       "\n"
      ],
      "text/plain": [
       "                    DEST_AIRPORT_SEQ_ID DEST_AIRPORT_ID\n",
       "DEST_AIRPORT_SEQ_ID 1                   1              \n",
       "DEST_AIRPORT_ID     1                   1              "
      ]
     },
     "metadata": {},
     "output_type": "display_data"
    }
   ],
   "source": [
    "# Check for Airport and Destination for corroralated data to remove - the closer to 1 the more corroralated\n",
    "cor(origData[c(\"ORIGIN_AIRPORT_SEQ_ID\", \"ORIGIN_AIRPORT_ID\")])\n",
    "cor(origData[c(\"DEST_AIRPORT_SEQ_ID\", \"DEST_AIRPORT_ID\")])"
   ]
  },
  {
   "cell_type": "code",
   "execution_count": 9,
   "metadata": {},
   "outputs": [],
   "source": [
    "# These are corroralated so we can drop the SEQ_ID for both as it is extraneous \n",
    "origData$ORIGIN_AIRPORT_SEQ_ID <- NULL\n",
    "origData$DEST_AIRPORT_SEQ_ID <- NULL"
   ]
  },
  {
   "cell_type": "code",
   "execution_count": 10,
   "metadata": {},
   "outputs": [
    {
     "data": {
      "text/html": [
       "0"
      ],
      "text/latex": [
       "0"
      ],
      "text/markdown": [
       "0"
      ],
      "text/plain": [
       "[1] 0"
      ]
     },
     "metadata": {},
     "output_type": "display_data"
    }
   ],
   "source": [
    "# The 'cor' function works for numeric columns but not for string columns \n",
    "# We can check the carrier related string rows by filtering for rows that are different\n",
    "mismatch <- origData[origData$OP_CARRIER != origData$OP_UNIQUE_CARRIER,]\n",
    "nrow(mismatch)"
   ]
  },
  {
   "cell_type": "code",
   "execution_count": 11,
   "metadata": {},
   "outputs": [],
   "source": [
    "# There are no mismatchs so we can drop one of the rows\n",
    "origData$OP_UNIQUE_CARRIER <- NULL"
   ]
  },
  {
   "cell_type": "code",
   "execution_count": 12,
   "metadata": {},
   "outputs": [
    {
     "data": {
      "text/html": [
       "<table>\n",
       "<thead><tr><th scope=col>DAY_OF_MONTH</th><th scope=col>DAY_OF_WEEK</th><th scope=col>OP_CARRIER_AIRLINE_ID</th><th scope=col>OP_CARRIER</th><th scope=col>TAIL_NUM</th><th scope=col>OP_CARRIER_FL_NUM</th><th scope=col>ORIGIN_AIRPORT_ID</th><th scope=col>ORIGIN</th><th scope=col>DEST_AIRPORT_ID</th><th scope=col>DEST</th><th scope=col>DEP_TIME</th><th scope=col>DEP_DEL15</th><th scope=col>DEP_TIME_BLK</th><th scope=col>ARR_TIME</th><th scope=col>ARR_DEL15</th><th scope=col>CANCELLED</th><th scope=col>DIVERTED</th><th scope=col>DISTANCE</th></tr></thead>\n",
       "<tbody>\n",
       "\t<tr><td>1        </td><td>4        </td><td>19805    </td><td>AA       </td><td>N787AA   </td><td>1        </td><td>12478    </td><td>JFK      </td><td>12892    </td><td>LAX      </td><td>855      </td><td>0.00     </td><td>0900-0959</td><td>1237     </td><td>0.00     </td><td>0.00     </td><td>0.00     </td><td>2475.00  </td></tr>\n",
       "\t<tr><td>1        </td><td>4        </td><td>19805    </td><td>AA       </td><td>N795AA   </td><td>2        </td><td>12892    </td><td>LAX      </td><td>12478    </td><td>JFK      </td><td>856      </td><td>0.00     </td><td>0900-0959</td><td>1651     </td><td>0.00     </td><td>0.00     </td><td>0.00     </td><td>2475.00  </td></tr>\n",
       "</tbody>\n",
       "</table>\n"
      ],
      "text/latex": [
       "\\begin{tabular}{r|llllllllllllllllll}\n",
       " DAY\\_OF\\_MONTH & DAY\\_OF\\_WEEK & OP\\_CARRIER\\_AIRLINE\\_ID & OP\\_CARRIER & TAIL\\_NUM & OP\\_CARRIER\\_FL\\_NUM & ORIGIN\\_AIRPORT\\_ID & ORIGIN & DEST\\_AIRPORT\\_ID & DEST & DEP\\_TIME & DEP\\_DEL15 & DEP\\_TIME\\_BLK & ARR\\_TIME & ARR\\_DEL15 & CANCELLED & DIVERTED & DISTANCE\\\\\n",
       "\\hline\n",
       "\t 1         & 4         & 19805     & AA        & N787AA    & 1         & 12478     & JFK       & 12892     & LAX       & 855       & 0.00      & 0900-0959 & 1237      & 0.00      & 0.00      & 0.00      & 2475.00  \\\\\n",
       "\t 1         & 4         & 19805     & AA        & N795AA    & 2         & 12892     & LAX       & 12478     & JFK       & 856       & 0.00      & 0900-0959 & 1651      & 0.00      & 0.00      & 0.00      & 2475.00  \\\\\n",
       "\\end{tabular}\n"
      ],
      "text/markdown": [
       "\n",
       "DAY_OF_MONTH | DAY_OF_WEEK | OP_CARRIER_AIRLINE_ID | OP_CARRIER | TAIL_NUM | OP_CARRIER_FL_NUM | ORIGIN_AIRPORT_ID | ORIGIN | DEST_AIRPORT_ID | DEST | DEP_TIME | DEP_DEL15 | DEP_TIME_BLK | ARR_TIME | ARR_DEL15 | CANCELLED | DIVERTED | DISTANCE | \n",
       "|---|---|\n",
       "| 1         | 4         | 19805     | AA        | N787AA    | 1         | 12478     | JFK       | 12892     | LAX       | 855       | 0.00      | 0900-0959 | 1237      | 0.00      | 0.00      | 0.00      | 2475.00   | \n",
       "| 1         | 4         | 19805     | AA        | N795AA    | 2         | 12892     | LAX       | 12478     | JFK       | 856       | 0.00      | 0900-0959 | 1651      | 0.00      | 0.00      | 0.00      | 2475.00   | \n",
       "\n",
       "\n"
      ],
      "text/plain": [
       "  DAY_OF_MONTH DAY_OF_WEEK OP_CARRIER_AIRLINE_ID OP_CARRIER TAIL_NUM\n",
       "1 1            4           19805                 AA         N787AA  \n",
       "2 1            4           19805                 AA         N795AA  \n",
       "  OP_CARRIER_FL_NUM ORIGIN_AIRPORT_ID ORIGIN DEST_AIRPORT_ID DEST DEP_TIME\n",
       "1 1                 12478             JFK    12892           LAX  855     \n",
       "2 2                 12892             LAX    12478           JFK  856     \n",
       "  DEP_DEL15 DEP_TIME_BLK ARR_TIME ARR_DEL15 CANCELLED DIVERTED DISTANCE\n",
       "1 0.00      0900-0959    1237     0.00      0.00      0.00     2475.00 \n",
       "2 0.00      0900-0959    1651     0.00      0.00      0.00     2475.00 "
      ]
     },
     "metadata": {},
     "output_type": "display_data"
    }
   ],
   "source": [
    "# Check the changes we have made\n",
    "head(origData, 2)"
   ]
  },
  {
   "cell_type": "markdown",
   "metadata": {},
   "source": [
    "## Molding Data\n",
    "- Dropping Rows\n",
    "- Adjusting data types\n",
    "- Creating new columns, if required"
   ]
  },
  {
   "cell_type": "code",
   "execution_count": 13,
   "metadata": {},
   "outputs": [],
   "source": [
    "# Arr_Del15 = 1 if True or 0 if False and do the same for Dep_Del15\n",
    "# Remove all rows with either NA or \"\" and assign to new dataframe\n",
    "onTimeData <- origData[!is.na(origData$ARR_DEL15) & origData$ARR_DEL15!=\"\" & !is.na(origData$DEP_DEL15) & origData$DEP_DEL15!=\"\",]"
   ]
  },
  {
   "cell_type": "code",
   "execution_count": 14,
   "metadata": {
    "scrolled": true
   },
   "outputs": [
    {
     "data": {
      "text/html": [
       "27921"
      ],
      "text/latex": [
       "27921"
      ],
      "text/markdown": [
       "27921"
      ],
      "text/plain": [
       "[1] 27921"
      ]
     },
     "metadata": {},
     "output_type": "display_data"
    },
    {
     "data": {
      "text/html": [
       "27393"
      ],
      "text/latex": [
       "27393"
      ],
      "text/markdown": [
       "27393"
      ],
      "text/plain": [
       "[1] 27393"
      ]
     },
     "metadata": {},
     "output_type": "display_data"
    }
   ],
   "source": [
    "# Now lets compare the number of rows in the new and old dataframes\n",
    "nrow(origData)\n",
    "nrow(onTimeData)"
   ]
  },
  {
   "cell_type": "code",
   "execution_count": 15,
   "metadata": {},
   "outputs": [],
   "source": [
    "# Lets change the format of the some of the columns from string to numeric \n",
    "onTimeData$DISTANCE <- as.integer(onTimeData$DISTANCE)\n",
    "onTimeData$CANCELLED <- as.integer(onTimeData$CANCELLED)\n",
    "onTimeData$DIVERTED <- as.integer(onTimeData$DIVERTED)"
   ]
  },
  {
   "cell_type": "code",
   "execution_count": 16,
   "metadata": {},
   "outputs": [],
   "source": [
    "# Lets change the format of the some of the columns from string to factors\n",
    "onTimeData$ARR_DEL15 <- as.factor(onTimeData$ARR_DEL15)\n",
    "onTimeData$DEP_DEL15 <- as.factor(onTimeData$DEP_DEL15)\n",
    "onTimeData$DEST_AIRPORT_ID <- as.factor(onTimeData$DEST_AIRPORT_ID)\n",
    "onTimeData$ORIGIN_AIRPORT_ID <- as.factor(onTimeData$ORIGIN_AIRPORT_ID)\n",
    "onTimeData$DAY_OF_WEEK <- as.factor(onTimeData$DAY_OF_WEEK)\n",
    "onTimeData$DEST <- as.factor(onTimeData$DEST)\n",
    "onTimeData$ORIGIN <- as.factor(onTimeData$ORIGIN)\n",
    "onTimeData$DEP_TIME_BLK <- as.factor(onTimeData$DEP_TIME_BLK)\n",
    "onTimeData$OP_CARRIER<- as.factor(onTimeData$OP_CARRIER)"
   ]
  },
  {
   "cell_type": "code",
   "execution_count": 17,
   "metadata": {},
   "outputs": [
    {
     "data": {
      "text/html": [
       "<table>\n",
       "<thead><tr><th scope=col>0.00</th><th scope=col>1.00</th></tr></thead>\n",
       "<tbody>\n",
       "\t<tr><td>21769</td><td>5624 </td></tr>\n",
       "</tbody>\n",
       "</table>\n"
      ],
      "text/latex": [
       "\\begin{tabular}{ll}\n",
       " 0.00 & 1.00\\\\\n",
       "\\hline\n",
       "\t 21769 & 5624 \\\\\n",
       "\\end{tabular}\n"
      ],
      "text/markdown": [
       "\n",
       "0.00 | 1.00 | \n",
       "|---|\n",
       "| 21769 | 5624  | \n",
       "\n",
       "\n"
      ],
      "text/plain": [
       "     0.00  1.00\n",
       "[1,] 21769 5624"
      ]
     },
     "metadata": {},
     "output_type": "display_data"
    }
   ],
   "source": [
    "# We need to check the distribution of the data will allow training of the algorithm\n",
    "# See how many fights were delayed where 1 = True and 0 = False\n",
    "t( tapply(onTimeData$ARR_DEL15, onTimeData$ARR_DEL15, length))"
   ]
  },
  {
   "cell_type": "code",
   "execution_count": 18,
   "metadata": {},
   "outputs": [
    {
     "data": {
      "text/html": [
       "0.205307925382397"
      ],
      "text/latex": [
       "0.205307925382397"
      ],
      "text/markdown": [
       "0.205307925382397"
      ],
      "text/plain": [
       "[1] 0.2053079"
      ]
     },
     "metadata": {},
     "output_type": "display_data"
    }
   ],
   "source": [
    "# We have delayed flights so lets check the prevelance in the data\n",
    "(5624 / (21769 + 5624))"
   ]
  },
  {
   "cell_type": "markdown",
   "metadata": {},
   "source": [
    "# Selecting the Algorithm \n",
    "- Learning Type: Solution Statement identifes a Prediction Model => Supervised Machine Learning\n",
    "- Result: Regression (Continous Values) or Classification (Discrete Values) => Classification\n",
    "- Complexity: Ensemble or Non-Ensemble Algorithms => Initially Non-Ensemble\n",
    "- Basic vs Enhanced => Initially Basic\n",
    "\n",
    "Candidate Algorithms \n",
    "- Naive Bayes\n",
    "- Logistic Regression \n",
    "- Decision Trees"
   ]
  },
  {
   "cell_type": "markdown",
   "metadata": {},
   "source": [
    "# Training the Model\n",
    "\n",
    "Select features\n",
    "- Origin and Destinations\n",
    "- Day of the Week\n",
    "- Carrier\n",
    "- Departure Time Block\n",
    "- Arrival Delay 15\n",
    "\n",
    "Caret Package - Classification And Regression Training\n",
    "- Data Splitting\n",
    "- Pre-processing\n",
    "- Feature selection\n",
    "- Model tuning\n",
    "- Common interface across algorithms "
   ]
  },
  {
   "cell_type": "code",
   "execution_count": 19,
   "metadata": {},
   "outputs": [
    {
     "name": "stderr",
     "output_type": "stream",
     "text": [
      "Loading required package: lattice\n",
      "Loading required package: ggplot2\n"
     ]
    }
   ],
   "source": [
    "# use library to load package into current R session\n",
    "library(caret)"
   ]
  },
  {
   "cell_type": "code",
   "execution_count": 20,
   "metadata": {},
   "outputs": [],
   "source": [
    "# set the seed number for random package generation\n",
    "set.seed(122515)"
   ]
  },
  {
   "cell_type": "code",
   "execution_count": 21,
   "metadata": {},
   "outputs": [],
   "source": [
    "# create a Vector of the subset of features needed to train the model - so we can add or remove columns\n",
    "featureCols <- c(\"ARR_DEL15\", \"DAY_OF_WEEK\", \"OP_CARRIER\", \"DEST\", \"ORIGIN\", \"DEP_TIME_BLK\")"
   ]
  },
  {
   "cell_type": "code",
   "execution_count": 22,
   "metadata": {},
   "outputs": [],
   "source": [
    "# create dataframe out of the subset of onTimeData that contains only these columns\n",
    "onTimeDataFiltered <- onTimeData[,featureCols]"
   ]
  },
  {
   "cell_type": "code",
   "execution_count": 23,
   "metadata": {},
   "outputs": [],
   "source": [
    "# Split the data into training and test using Caret to ensure correct % split and correct distribution between the data sets\n",
    "inTrainRows <- createDataPartition(onTimeDataFiltered$ARR_DEL15, p=0.70, list=FALSE)"
   ]
  },
  {
   "cell_type": "code",
   "execution_count": 24,
   "metadata": {},
   "outputs": [
    {
     "data": {
      "text/html": [
       "<table>\n",
       "<thead><tr><th scope=col>Resample1</th></tr></thead>\n",
       "<tbody>\n",
       "\t<tr><td> 1</td></tr>\n",
       "\t<tr><td> 3</td></tr>\n",
       "\t<tr><td> 4</td></tr>\n",
       "\t<tr><td> 5</td></tr>\n",
       "\t<tr><td> 6</td></tr>\n",
       "\t<tr><td> 7</td></tr>\n",
       "\t<tr><td> 9</td></tr>\n",
       "\t<tr><td>10</td></tr>\n",
       "\t<tr><td>11</td></tr>\n",
       "\t<tr><td>12</td></tr>\n",
       "</tbody>\n",
       "</table>\n"
      ],
      "text/latex": [
       "\\begin{tabular}{l}\n",
       " Resample1\\\\\n",
       "\\hline\n",
       "\t  1\\\\\n",
       "\t  3\\\\\n",
       "\t  4\\\\\n",
       "\t  5\\\\\n",
       "\t  6\\\\\n",
       "\t  7\\\\\n",
       "\t  9\\\\\n",
       "\t 10\\\\\n",
       "\t 11\\\\\n",
       "\t 12\\\\\n",
       "\\end{tabular}\n"
      ],
      "text/markdown": [
       "\n",
       "Resample1 | \n",
       "|---|---|---|---|---|---|---|---|---|---|\n",
       "|  1 | \n",
       "|  3 | \n",
       "|  4 | \n",
       "|  5 | \n",
       "|  6 | \n",
       "|  7 | \n",
       "|  9 | \n",
       "| 10 | \n",
       "| 11 | \n",
       "| 12 | \n",
       "\n",
       "\n"
      ],
      "text/plain": [
       "      Resample1\n",
       " [1,]  1       \n",
       " [2,]  3       \n",
       " [3,]  4       \n",
       " [4,]  5       \n",
       " [5,]  6       \n",
       " [6,]  7       \n",
       " [7,]  9       \n",
       " [8,] 10       \n",
       " [9,] 11       \n",
       "[10,] 12       "
      ]
     },
     "metadata": {},
     "output_type": "display_data"
    }
   ],
   "source": [
    "# Lets check the data with the head function\n",
    "head(inTrainRows, 10)"
   ]
  },
  {
   "cell_type": "code",
   "execution_count": 25,
   "metadata": {},
   "outputs": [],
   "source": [
    "# Use row vector as the indicies to select the rows that make up the training data\n",
    "trainDataFiltered <- onTimeDataFiltered[inTrainRows,]"
   ]
  },
  {
   "cell_type": "code",
   "execution_count": 26,
   "metadata": {},
   "outputs": [],
   "source": [
    "# simply but a minus (-) in front of the indicies to select the non-Training data i.e. the Test data\n",
    "testDataFiltered <- onTimeDataFiltered[-inTrainRows,]"
   ]
  },
  {
   "cell_type": "code",
   "execution_count": 27,
   "metadata": {},
   "outputs": [
    {
     "data": {
      "text/html": [
       "0.700032855108969"
      ],
      "text/latex": [
       "0.700032855108969"
      ],
      "text/markdown": [
       "0.700032855108969"
      ],
      "text/plain": [
       "[1] 0.7000329"
      ]
     },
     "metadata": {},
     "output_type": "display_data"
    },
    {
     "data": {
      "text/html": [
       "0.299967144891031"
      ],
      "text/latex": [
       "0.299967144891031"
      ],
      "text/markdown": [
       "0.299967144891031"
      ],
      "text/plain": [
       "[1] 0.2999671"
      ]
     },
     "metadata": {},
     "output_type": "display_data"
    }
   ],
   "source": [
    "# Now we need to check that the data % is split correctly between Traing and Test \n",
    "nrow(trainDataFiltered)/(nrow(testDataFiltered) + nrow(trainDataFiltered))\n",
    "nrow(testDataFiltered)/(nrow(testDataFiltered) + nrow(trainDataFiltered))"
   ]
  },
  {
   "cell_type": "code",
   "execution_count": 28,
   "metadata": {},
   "outputs": [],
   "source": [
    "# To training the data we use the Caret Train Function\n",
    "logisticRegModel <- train(ARR_DEL15 ~ ., data=trainDataFiltered, method=\"glm\", family=\"binomial\")"
   ]
  },
  {
   "cell_type": "code",
   "execution_count": 29,
   "metadata": {},
   "outputs": [
    {
     "data": {
      "text/plain": [
       "Generalized Linear Model \n",
       "\n",
       "19176 samples\n",
       "    5 predictor\n",
       "    2 classes: '0.00', '1.00' \n",
       "\n",
       "No pre-processing\n",
       "Resampling: Bootstrapped (25 reps) \n",
       "Summary of sample sizes: 19176, 19176, 19176, 19176, 19176, 19176, ... \n",
       "Resampling results:\n",
       "\n",
       "  Accuracy   Kappa     \n",
       "  0.7950431  0.02468547\n"
      ]
     },
     "metadata": {},
     "output_type": "display_data"
    }
   ],
   "source": [
    "logisticRegModel"
   ]
  },
  {
   "cell_type": "markdown",
   "metadata": {},
   "source": [
    "# Testing the Model"
   ]
  },
  {
   "cell_type": "code",
   "execution_count": 30,
   "metadata": {},
   "outputs": [],
   "source": [
    "# Now we will test the Model using the test data and return an object containing the predictions\n",
    "logRegPrediction <- predict(logisticRegModel, testDataFiltered)"
   ]
  },
  {
   "cell_type": "code",
   "execution_count": 31,
   "metadata": {},
   "outputs": [],
   "source": [
    "# To evaluate the model we use the Caret Confusion Matrix Model\n",
    "logRegConfMat <- confusionMatrix(logRegPrediction, testDataFiltered[,\"ARR_DEL15\"])"
   ]
  },
  {
   "cell_type": "code",
   "execution_count": 32,
   "metadata": {},
   "outputs": [
    {
     "data": {
      "text/plain": [
       "Confusion Matrix and Statistics\n",
       "\n",
       "          Reference\n",
       "Prediction 0.00 1.00\n",
       "      0.00 6494 1653\n",
       "      1.00   36   34\n",
       "                                          \n",
       "               Accuracy : 0.7945          \n",
       "                 95% CI : (0.7855, 0.8031)\n",
       "    No Information Rate : 0.7947          \n",
       "    P-Value [Acc > NIR] : 0.5283          \n",
       "                                          \n",
       "                  Kappa : 0.0227          \n",
       " Mcnemar's Test P-Value : <2e-16          \n",
       "                                          \n",
       "            Sensitivity : 0.99449         \n",
       "            Specificity : 0.02015         \n",
       "         Pos Pred Value : 0.79710         \n",
       "         Neg Pred Value : 0.48571         \n",
       "             Prevalence : 0.79469         \n",
       "         Detection Rate : 0.79031         \n",
       "   Detection Prevalence : 0.99148         \n",
       "      Balanced Accuracy : 0.50732         \n",
       "                                          \n",
       "       'Positive' Class : 0.00            \n",
       "                                          "
      ]
     },
     "metadata": {},
     "output_type": "display_data"
    }
   ],
   "source": [
    "# The confusion matric provides groups of performace statistics of the Models predictive cabailities\n",
    "# A True Postive  B False Positive  (NOT DELAYED)\n",
    "# C False Negative  D True Negative  (DELAYED)\n",
    "logRegConfMat"
   ]
  },
  {
   "cell_type": "markdown",
   "metadata": {},
   "source": [
    "### Improve Model Performance\n",
    "Overall model prediction is pretty good (Accuracy : 0.7945) \n",
    "On time flight arrivals prediction results is pretty good (Pos Pred Value : 0.79710)\n",
    "Delayed flight arrivals prdictions results are bad (Neg Pred Value : 0.48571)\n",
    "Options for improvement \n",
    "- Add Additional Columns\n",
    "- Adjust Training Settings\n",
    "- Select Better Alogrithm (Try ensemble - Random Forest Algorithm)"
   ]
  },
  {
   "cell_type": "code",
   "execution_count": 33,
   "metadata": {},
   "outputs": [
    {
     "name": "stderr",
     "output_type": "stream",
     "text": [
      "randomForest 4.6-14\n",
      "Type rfNews() to see new features/changes/bug fixes.\n",
      "\n",
      "Attaching package: 'randomForest'\n",
      "\n",
      "The following object is masked from 'package:ggplot2':\n",
      "\n",
      "    margin\n",
      "\n"
     ]
    }
   ],
   "source": [
    "# Load Random Forest Library\n",
    "library(randomForest)"
   ]
  },
  {
   "cell_type": "code",
   "execution_count": 34,
   "metadata": {},
   "outputs": [
    {
     "data": {
      "text/html": [
       "7870"
      ],
      "text/latex": [
       "7870"
      ],
      "text/markdown": [
       "7870"
      ],
      "text/plain": [
       "[1] 7870"
      ]
     },
     "metadata": {},
     "output_type": "display_data"
    }
   ],
   "source": [
    "# Lets check R memory limit as I hit \"Error: cannot allocate vector of size 1.4 Gb\"\n",
    "memory.limit()"
   ]
  },
  {
   "cell_type": "code",
   "execution_count": 35,
   "metadata": {},
   "outputs": [
    {
     "data": {
      "text/html": [
       "15000"
      ],
      "text/latex": [
       "15000"
      ],
      "text/markdown": [
       "15000"
      ],
      "text/plain": [
       "[1] 15000"
      ]
     },
     "metadata": {},
     "output_type": "display_data"
    }
   ],
   "source": [
    "# Lets increases the limit \n",
    "memory.limit(size=15000)"
   ]
  },
  {
   "cell_type": "code",
   "execution_count": 36,
   "metadata": {},
   "outputs": [],
   "source": [
    "# We will use the raw Random Forest constructor instead of caret train method to the difference\n",
    "# This may take some time ...\n",
    "rfModel <- randomForest(trainDataFiltered[-1], trainDataFiltered$ARR_DEL15, proximity = TRUE, importance = TRUE)"
   ]
  },
  {
   "cell_type": "code",
   "execution_count": 37,
   "metadata": {},
   "outputs": [],
   "source": [
    "#Now lets use the new Random Forest Model to predict which flights will be delayed\n",
    "rfValidation <- predict(rfModel, testDataFiltered)"
   ]
  },
  {
   "cell_type": "code",
   "execution_count": 38,
   "metadata": {},
   "outputs": [
    {
     "data": {
      "text/plain": [
       "Confusion Matrix and Statistics\n",
       "\n",
       "          Reference\n",
       "Prediction 0.00 1.00\n",
       "      0.00 6242 1520\n",
       "      1.00  288  167\n",
       "                                          \n",
       "               Accuracy : 0.78            \n",
       "                 95% CI : (0.7709, 0.7889)\n",
       "    No Information Rate : 0.7947          \n",
       "    P-Value [Acc > NIR] : 0.9995          \n",
       "                                          \n",
       "                  Kappa : 0.0753          \n",
       " Mcnemar's Test P-Value : <2e-16          \n",
       "                                          \n",
       "            Sensitivity : 0.95590         \n",
       "            Specificity : 0.09899         \n",
       "         Pos Pred Value : 0.80417         \n",
       "         Neg Pred Value : 0.36703         \n",
       "             Prevalence : 0.79469         \n",
       "         Detection Rate : 0.75964         \n",
       "   Detection Prevalence : 0.94463         \n",
       "      Balanced Accuracy : 0.52744         \n",
       "                                          \n",
       "       'Positive' Class : 0.00            \n",
       "                                          "
      ]
     },
     "metadata": {},
     "output_type": "display_data"
    }
   ],
   "source": [
    "# Lets evaluate the performance of the model using the Confusion Matrix\n",
    "rfConfMat <- confusionMatrix(rfValidation, testDataFiltered[,\"ARR_DEL15\"])\n",
    "rfConfMat"
   ]
  },
  {
   "cell_type": "markdown",
   "metadata": {},
   "source": [
    "We did get a much better result in True Negative - Delayed flights and Specificty results\n",
    "This can be improved further with a different view on the data such as including Weather Data\n",
    "Will leave this ML case here for now"
   ]
  },
  {
   "cell_type": "code",
   "execution_count": null,
   "metadata": {},
   "outputs": [],
   "source": []
  }
 ],
 "metadata": {
  "kernelspec": {
   "display_name": "R",
   "language": "R",
   "name": "ir"
  },
  "language_info": {
   "codemirror_mode": "r",
   "file_extension": ".r",
   "mimetype": "text/x-r-source",
   "name": "R",
   "pygments_lexer": "r",
   "version": "3.5.1"
  }
 },
 "nbformat": 4,
 "nbformat_minor": 2
}
